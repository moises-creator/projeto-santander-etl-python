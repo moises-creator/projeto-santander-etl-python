{
  "cells": [
    {
      "cell_type": "markdown",
      "metadata": {
        "id": "BPJQsTCULaC-"
      },
      "source": [
        "# Santander Dev Week 2023 (ETL com Python)"
      ]
    },
    {
      "cell_type": "markdown",
      "metadata": {
        "id": "k5fA5OrXt1a3"
      },
      "source": [
        "**Contexto:** Você é um cientista de dados no Santander e recebeu a tarefa de envolver seus clientes de maneira mais personalizada. Seu objetivo é usar o poder da IA Generativa para criar mensagens de marketing personalizadas que serão entregues a cada cliente.\n",
        "\n",
        "**Condições do Problema:**\n",
        "\n",
        "1. Você recebeu uma planilha simples, em formato CSV ('SDW2023.csv'), com uma lista de IDs de usuário do banco:\n",
        "  ```\n",
        "  UserID\n",
        "  1\n",
        "  2\n",
        "  3\n",
        "  4\n",
        "  5\n",
        "  ```\n",
        "2. Seu trabalho é consumir o endpoint `GET https://sdw-2023-prd.up.railway.app/users/{id}` (API da Santander Dev Week 2023) para obter os dados de cada cliente.\n",
        "3. Depois de obter os dados dos clientes, você vai usar a API do ChatGPT (OpenAI) para gerar uma mensagem de marketing personalizada para cada cliente. Essa mensagem deve enfatizar a importância dos investimentos.\n",
        "4. Uma vez que a mensagem para cada cliente esteja pronta, você vai enviar essas informações de volta para a API, atualizando a lista de \"news\" de cada usuário usando o endpoint `PUT https://sdw-2023-prd.up.railway.app/users/{id}`.\n",
        "\n"
      ]
    },
    {
      "cell_type": "code",
      "execution_count": null,
      "metadata": {
        "id": "FKqLC_CWoYqR"
      },
      "outputs": [],
      "source": [
        "# Utilize sua própria URL se quiser ;)\n",
        "# Repositório da API: https://github.com/digitalinnovationone/santander-dev-week-2023-api\n",
        "sdw2023_api_url = 'https://sdw-2023-prd.up.railway.app'"
      ]
    },
    {
      "cell_type": "markdown",
      "metadata": {
        "id": "9dfI-o7gLRq9"
      },
      "source": [
        "## **E**xtract\n",
        "\n",
        "Extraia a lista de IDs de usuário a partir do arquivo CSV. Para cada ID, faça uma requisição GET para obter os dados do usuário correspondente."
      ]
    },
    {
      "cell_type": "code",
      "execution_count": null,
      "metadata": {
        "id": "F5XOuCZGSTGw"
      },
      "outputs": [],
      "source": []
    },
    {
      "cell_type": "markdown",
      "metadata": {
        "id": "cWoqInB4TF1x"
      },
      "source": [
        "## **T**ransform\n",
        "\n",
        "Utilize a API do OpenAI GPT-4 para gerar uma mensagem de marketing personalizada para cada usuário."
      ]
    },
    {
      "cell_type": "code",
      "execution_count": null,
      "metadata": {
        "id": "O--PCAObTQkK"
      },
      "outputs": [],
      "source": [
        "!pip install openai"
      ]
    },
    {
      "cell_type": "code",
      "execution_count": null,
      "metadata": {
        "id": "sUB1doiDTX3y"
      },
      "outputs": [],
      "source": [
        "# Documentação Oficial da API OpenAI: https://platform.openai.com/docs/api-reference/introduction\n",
        "# Informações sobre o Período Gratuito: https://help.openai.com/en/articles/4936830\n",
        "\n",
        "# Para gerar uma API Key:\n",
        "# 1. Crie uma conta na OpenAI\n",
        "# 2. Acesse a seção \"API Keys\"\n",
        "# 3. Clique em \"Create API Key\"\n",
        "# Link direto: https://platform.openai.com/account/api-keys\n",
        "\n",
        "# Substitua o texto TODO por sua API Key da OpenAI, ela será salva como uma variável de ambiente.\n",
        "openai_api_key = 'TODO'"
      ]
    },
    {
      "cell_type": "code",
      "execution_count": null,
      "metadata": {
        "id": "n1w78kNxTrZY"
      },
      "outputs": [],
      "source": [
        "\n"
      ]
    },
    {
      "cell_type": "markdown",
      "metadata": {
        "id": "kNuP0SDUZMBY"
      },
      "source": [
        "## **L**oad\n",
        "\n",
        "Atualize a lista de \"news\" de cada usuário na API com a nova mensagem gerada."
      ]
    },
    {
      "cell_type": "code",
      "execution_count": null,
      "metadata": {
        "id": "YefWfYBoZMN2"
      },
      "outputs": [],
      "source": []
    }
  ],
  "metadata": {
    "colab": {
      "collapsed_sections": [
        "kNuP0SDUZMBY"
      ],
      "provenance": []
    },
    "kernelspec": {
      "display_name": "Python 3",
      "name": "python3"
    },
    "language_info": {
      "codemirror_mode": {
        "name": "ipython",
        "version": 3
      },
      "file_extension": ".py",
      "mimetype": "text/x-python",
      "name": "python",
      "nbconvert_exporter": "python",
      "pygments_lexer": "ipython3",
      "version": "3.11.0"
    }
  },
  "nbformat": 4,
  "nbformat_minor": 0
}
